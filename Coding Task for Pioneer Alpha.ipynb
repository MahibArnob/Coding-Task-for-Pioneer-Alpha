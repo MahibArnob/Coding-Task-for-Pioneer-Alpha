{
 "cells": [
  {
   "cell_type": "code",
   "execution_count": null,
   "metadata": {},
   "outputs": [],
   "source": [
    "import numpy as np\n",
    "\n",
    "def sigmoid(z):\n",
    "    return 1 / (1 + np.exp(-z))\n",
    "\n",
    "def relu(X):\n",
    "    return np.maximum(0,X)\n",
    "\n",
    "def sigmoid_gradient(sigmoid):\n",
    "    return np.multiply(sigmoid, (1 - sigmoid))\n",
    "\n",
    "def relu_gradient(x):\n",
    "    x[x<=0] = 0\n",
    "    x[x>0] = 1\n",
    "    return x\n",
    "\n",
    "def forward(X, w1, w2):\n",
    "    h = relu(np.matmul(X, w1))\n",
    "    y_hat = sigmoid(np.matmul(h, w2))\n",
    "    return (y_hat, h)\n",
    "\n",
    "def backprop(X, y_hat, w2, h):\n",
    "    w2_gradient = np.matmul(sigmoid_gradient(y_hat), h.T)  / X.shape[0]\n",
    "    w1_gradient = np.matmul(np.matmul(relu_gradient(h), sigmoid_gradient(y_hat)) * w2.T, X.T) / X.shape[0]\n",
    "    return (w1_gradient, w2_gradient)"
   ]
  }
 ],
 "metadata": {
  "kernelspec": {
   "display_name": "Python 3",
   "language": "python",
   "name": "python3"
  },
  "language_info": {
   "codemirror_mode": {
    "name": "ipython",
    "version": 3
   },
   "file_extension": ".py",
   "mimetype": "text/x-python",
   "name": "python",
   "nbconvert_exporter": "python",
   "pygments_lexer": "ipython3",
   "version": "3.8.3"
  }
 },
 "nbformat": 4,
 "nbformat_minor": 4
}
